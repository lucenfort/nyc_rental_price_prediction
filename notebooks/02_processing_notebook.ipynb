{
 "cells": [
  {
   "cell_type": "markdown",
   "id": "b4292ec0",
   "metadata": {},
   "source": [
    "# 🏗️ Pré-Processamento e Engenharia de Atributos - Precificação de Aluguéis em Nova York  \n",
    "        \n",
    "        **Autor:** Luciano Arruda\n",
    "        **Data:** `2025-02-07`    \n",
    "        **Objetivo:** Aplicar técnicas de **pré-processamento e engenharia de atributos** para otimizar os dados antes da modelagem.  \n",
    "\n",
    "        ## 🔍 Etapas da Análise  \n",
    "        1. **Carregamento dos dados** 📂  \n",
    "        2. **Tratamento de valores ausentes** 🚨  \n",
    "        3. **Remoção de outliers** 🔄  \n",
    "        4. **Criação de novas features** 🏡  \n",
    "        5. **Transformação da variável alvo** 📉  \n",
    "        6. **Normalização das variáveis** ⚖️  \n",
    "        7. **Conclusões e próximos passos** ✅  \n",
    "        "
   ]
  },
  {
   "cell_type": "code",
   "execution_count": 5,
   "id": "fc84171e",
   "metadata": {},
   "outputs": [],
   "source": [
    "# 📥 Importação das Bibliotecas\n",
    "import os\n",
    "import numpy as np\n",
    "import pandas as pd\n",
    "import seaborn as sns\n",
    "import matplotlib.pyplot as plt\n",
    "from sklearn.preprocessing import StandardScaler\n",
    "\n",
    "# Configuração do ambiente\n",
    "sns.set(style=\"whitegrid\", context=\"notebook\")\n",
    "\n",
    "# Diretório dos dados\n",
    "data_path = \"../data/raw/teste_indicium_precificacao.csv\"\n"
   ]
  },
  {
   "cell_type": "code",
   "execution_count": 6,
   "id": "a5c1a8f3",
   "metadata": {},
   "outputs": [
    {
     "name": "stdout",
     "output_type": "stream",
     "text": [
      "✅ Dataset carregado com sucesso!\n"
     ]
    }
   ],
   "source": [
    "# 📂 Carregamento do Dataset\n",
    "try:\n",
    "    df = pd.read_csv(data_path)\n",
    "    print(\"✅ Dataset carregado com sucesso!\")\n",
    "except Exception as e:\n",
    "    print(f\"❌ Erro ao carregar o dataset: {e}\")\n"
   ]
  },
  {
   "cell_type": "markdown",
   "id": "91beb276",
   "metadata": {},
   "source": [
    "## 🚨 Tratamento de Valores Ausentes  \n",
    "\n",
    "        Substituímos valores ausentes com:\n",
    "        - **Moda** para colunas categóricas.\n",
    "        - **Zero** para `ultima_review` e `reviews_por_mes`.\n",
    "        "
   ]
  },
  {
   "cell_type": "code",
   "execution_count": 7,
   "id": "24c0677a",
   "metadata": {},
   "outputs": [
    {
     "name": "stdout",
     "output_type": "stream",
     "text": [
      "✅ Valores ausentes tratados!\n"
     ]
    },
    {
     "name": "stderr",
     "output_type": "stream",
     "text": [
      "/tmp/ipykernel_317439/4089038742.py:4: FutureWarning: A value is trying to be set on a copy of a DataFrame or Series through chained assignment using an inplace method.\n",
      "The behavior will change in pandas 3.0. This inplace method will never work because the intermediate object on which we are setting values always behaves as a copy.\n",
      "\n",
      "For example, when doing 'df[col].method(value, inplace=True)', try using 'df.method({col: value}, inplace=True)' or df[col] = df[col].method(value) instead, to perform the operation inplace on the original object.\n",
      "\n",
      "\n",
      "  df[coluna].fillna(df[coluna].median(), inplace=True)\n",
      "/tmp/ipykernel_317439/4089038742.py:6: FutureWarning: A value is trying to be set on a copy of a DataFrame or Series through chained assignment using an inplace method.\n",
      "The behavior will change in pandas 3.0. This inplace method will never work because the intermediate object on which we are setting values always behaves as a copy.\n",
      "\n",
      "For example, when doing 'df[col].method(value, inplace=True)', try using 'df.method({col: value}, inplace=True)' or df[col] = df[col].method(value) instead, to perform the operation inplace on the original object.\n",
      "\n",
      "\n",
      "  df[coluna].fillna(df[coluna].mode()[0], inplace=True)\n",
      "/tmp/ipykernel_317439/4089038742.py:4: FutureWarning: A value is trying to be set on a copy of a DataFrame or Series through chained assignment using an inplace method.\n",
      "The behavior will change in pandas 3.0. This inplace method will never work because the intermediate object on which we are setting values always behaves as a copy.\n",
      "\n",
      "For example, when doing 'df[col].method(value, inplace=True)', try using 'df.method({col: value}, inplace=True)' or df[col] = df[col].method(value) instead, to perform the operation inplace on the original object.\n",
      "\n",
      "\n",
      "  df[coluna].fillna(df[coluna].median(), inplace=True)\n",
      "/tmp/ipykernel_317439/4089038742.py:6: FutureWarning: A value is trying to be set on a copy of a DataFrame or Series through chained assignment using an inplace method.\n",
      "The behavior will change in pandas 3.0. This inplace method will never work because the intermediate object on which we are setting values always behaves as a copy.\n",
      "\n",
      "For example, when doing 'df[col].method(value, inplace=True)', try using 'df.method({col: value}, inplace=True)' or df[col] = df[col].method(value) instead, to perform the operation inplace on the original object.\n",
      "\n",
      "\n",
      "  df[coluna].fillna(df[coluna].mode()[0], inplace=True)\n",
      "/tmp/ipykernel_317439/4089038742.py:4: FutureWarning: A value is trying to be set on a copy of a DataFrame or Series through chained assignment using an inplace method.\n",
      "The behavior will change in pandas 3.0. This inplace method will never work because the intermediate object on which we are setting values always behaves as a copy.\n",
      "\n",
      "For example, when doing 'df[col].method(value, inplace=True)', try using 'df.method({col: value}, inplace=True)' or df[col] = df[col].method(value) instead, to perform the operation inplace on the original object.\n",
      "\n",
      "\n",
      "  df[coluna].fillna(df[coluna].median(), inplace=True)\n",
      "/tmp/ipykernel_317439/4089038742.py:4: FutureWarning: A value is trying to be set on a copy of a DataFrame or Series through chained assignment using an inplace method.\n",
      "The behavior will change in pandas 3.0. This inplace method will never work because the intermediate object on which we are setting values always behaves as a copy.\n",
      "\n",
      "For example, when doing 'df[col].method(value, inplace=True)', try using 'df.method({col: value}, inplace=True)' or df[col] = df[col].method(value) instead, to perform the operation inplace on the original object.\n",
      "\n",
      "\n",
      "  df[coluna].fillna(df[coluna].median(), inplace=True)\n",
      "/tmp/ipykernel_317439/4089038742.py:6: FutureWarning: A value is trying to be set on a copy of a DataFrame or Series through chained assignment using an inplace method.\n",
      "The behavior will change in pandas 3.0. This inplace method will never work because the intermediate object on which we are setting values always behaves as a copy.\n",
      "\n",
      "For example, when doing 'df[col].method(value, inplace=True)', try using 'df.method({col: value}, inplace=True)' or df[col] = df[col].method(value) instead, to perform the operation inplace on the original object.\n",
      "\n",
      "\n",
      "  df[coluna].fillna(df[coluna].mode()[0], inplace=True)\n",
      "/tmp/ipykernel_317439/4089038742.py:4: FutureWarning: A value is trying to be set on a copy of a DataFrame or Series through chained assignment using an inplace method.\n",
      "The behavior will change in pandas 3.0. This inplace method will never work because the intermediate object on which we are setting values always behaves as a copy.\n",
      "\n",
      "For example, when doing 'df[col].method(value, inplace=True)', try using 'df.method({col: value}, inplace=True)' or df[col] = df[col].method(value) instead, to perform the operation inplace on the original object.\n",
      "\n",
      "\n",
      "  df[coluna].fillna(df[coluna].median(), inplace=True)\n",
      "/tmp/ipykernel_317439/4089038742.py:4: FutureWarning: A value is trying to be set on a copy of a DataFrame or Series through chained assignment using an inplace method.\n",
      "The behavior will change in pandas 3.0. This inplace method will never work because the intermediate object on which we are setting values always behaves as a copy.\n",
      "\n",
      "For example, when doing 'df[col].method(value, inplace=True)', try using 'df.method({col: value}, inplace=True)' or df[col] = df[col].method(value) instead, to perform the operation inplace on the original object.\n",
      "\n",
      "\n",
      "  df[coluna].fillna(df[coluna].median(), inplace=True)\n",
      "/tmp/ipykernel_317439/4089038742.py:4: FutureWarning: A value is trying to be set on a copy of a DataFrame or Series through chained assignment using an inplace method.\n",
      "The behavior will change in pandas 3.0. This inplace method will never work because the intermediate object on which we are setting values always behaves as a copy.\n",
      "\n",
      "For example, when doing 'df[col].method(value, inplace=True)', try using 'df.method({col: value}, inplace=True)' or df[col] = df[col].method(value) instead, to perform the operation inplace on the original object.\n",
      "\n",
      "\n",
      "  df[coluna].fillna(df[coluna].median(), inplace=True)\n",
      "/tmp/ipykernel_317439/4089038742.py:6: FutureWarning: A value is trying to be set on a copy of a DataFrame or Series through chained assignment using an inplace method.\n",
      "The behavior will change in pandas 3.0. This inplace method will never work because the intermediate object on which we are setting values always behaves as a copy.\n",
      "\n",
      "For example, when doing 'df[col].method(value, inplace=True)', try using 'df.method({col: value}, inplace=True)' or df[col] = df[col].method(value) instead, to perform the operation inplace on the original object.\n",
      "\n",
      "\n",
      "  df[coluna].fillna(df[coluna].mode()[0], inplace=True)\n",
      "/tmp/ipykernel_317439/4089038742.py:4: FutureWarning: A value is trying to be set on a copy of a DataFrame or Series through chained assignment using an inplace method.\n",
      "The behavior will change in pandas 3.0. This inplace method will never work because the intermediate object on which we are setting values always behaves as a copy.\n",
      "\n",
      "For example, when doing 'df[col].method(value, inplace=True)', try using 'df.method({col: value}, inplace=True)' or df[col] = df[col].method(value) instead, to perform the operation inplace on the original object.\n",
      "\n",
      "\n",
      "  df[coluna].fillna(df[coluna].median(), inplace=True)\n",
      "/tmp/ipykernel_317439/4089038742.py:4: FutureWarning: A value is trying to be set on a copy of a DataFrame or Series through chained assignment using an inplace method.\n",
      "The behavior will change in pandas 3.0. This inplace method will never work because the intermediate object on which we are setting values always behaves as a copy.\n",
      "\n",
      "For example, when doing 'df[col].method(value, inplace=True)', try using 'df.method({col: value}, inplace=True)' or df[col] = df[col].method(value) instead, to perform the operation inplace on the original object.\n",
      "\n",
      "\n",
      "  df[coluna].fillna(df[coluna].median(), inplace=True)\n",
      "/tmp/ipykernel_317439/4089038742.py:4: FutureWarning: A value is trying to be set on a copy of a DataFrame or Series through chained assignment using an inplace method.\n",
      "The behavior will change in pandas 3.0. This inplace method will never work because the intermediate object on which we are setting values always behaves as a copy.\n",
      "\n",
      "For example, when doing 'df[col].method(value, inplace=True)', try using 'df.method({col: value}, inplace=True)' or df[col] = df[col].method(value) instead, to perform the operation inplace on the original object.\n",
      "\n",
      "\n",
      "  df[coluna].fillna(df[coluna].median(), inplace=True)\n"
     ]
    }
   ],
   "source": [
    "# 🔄 Tratamento de Valores Ausentes\n",
    "for coluna in df.columns:\n",
    "    if df[coluna].dtype in ['float64', 'int64']:\n",
    "        df[coluna].fillna(df[coluna].median(), inplace=True)\n",
    "    else:\n",
    "        df[coluna].fillna(df[coluna].mode()[0], inplace=True)\n",
    "\n",
    "print(\"✅ Valores ausentes tratados!\")\n"
   ]
  },
  {
   "cell_type": "markdown",
   "id": "cbf9d99e",
   "metadata": {},
   "source": [
    "## 🔄 Remoção de Outliers  \n",
    "\n",
    "        Utilizamos o **método do intervalo interquartil (IQR)** para remover valores extremos da coluna `price`.\n",
    "        "
   ]
  },
  {
   "cell_type": "code",
   "execution_count": 8,
   "id": "f9841fd4",
   "metadata": {},
   "outputs": [
    {
     "name": "stdout",
     "output_type": "stream",
     "text": [
      "✅ Outliers removidos!\n"
     ]
    }
   ],
   "source": [
    "# 📊 Removendo Outliers (IQR)\n",
    "Q1 = df['price'].quantile(0.25)\n",
    "Q3 = df['price'].quantile(0.75)\n",
    "IQR = Q3 - Q1\n",
    "\n",
    "limite_inferior = Q1 - 1.5 * IQR\n",
    "limite_superior = Q3 + 1.5 * IQR\n",
    "\n",
    "df = df[(df['price'] >= limite_inferior) & (df['price'] <= limite_superior)]\n",
    "\n",
    "print(\"✅ Outliers removidos!\")\n"
   ]
  },
  {
   "cell_type": "markdown",
   "id": "058c2938",
   "metadata": {},
   "source": [
    "## 🏡 Criação de Novas Features  \n",
    "\n",
    "        Criamos as seguintes features:\n",
    "        - **Densidade de imóveis por bairro** 🏙\n",
    "        - **Proximidade ao centro de Nova York** 📍  \n",
    "        "
   ]
  },
  {
   "cell_type": "code",
   "execution_count": 9,
   "id": "cc77c7cc",
   "metadata": {},
   "outputs": [
    {
     "name": "stdout",
     "output_type": "stream",
     "text": [
      "✅ Novas features criadas!\n"
     ]
    }
   ],
   "source": [
    "# 📍 Criando Novas Features\n",
    "\n",
    "# Densidade de imóveis por bairro\n",
    "df['densidade_imoveis'] = df.groupby(\"bairro\")[\"bairro\"].transform(\"count\")\n",
    "\n",
    "# Proximidade ao centro (latitude: 40.7128, longitude: -74.0060)\n",
    "lat_centro, lon_centro = 40.7128, -74.0060\n",
    "df[\"proximidade_centro\"] = np.sqrt((df[\"latitude\"] - lat_centro) ** 2 + (df[\"longitude\"] - lon_centro) ** 2)\n",
    "\n",
    "print(\"✅ Novas features criadas!\")\n"
   ]
  },
  {
   "cell_type": "markdown",
   "id": "19cd0ebe",
   "metadata": {},
   "source": [
    "## 🔄 Transformação da Variável Alvo (`price`)  \n",
    "\n",
    "        Aplicamos uma **transformação logarítmica (`log1p`)** para suavizar a distribuição dos preços.\n",
    "        "
   ]
  },
  {
   "cell_type": "code",
   "execution_count": 10,
   "id": "58fb72e0",
   "metadata": {},
   "outputs": [
    {
     "data": {
      "image/png": "[encoded data removed]",
      "text/plain": [
       "<Figure size 1000x600 with 1 Axes>"
      ]
     },
     "metadata": {},
     "output_type": "display_data"
    },
    {
     "name": "stdout",
     "output_type": "stream",
     "text": [
      "✅ Transformação log aplicada!\n"
     ]
    }
   ],
   "source": [
    "# 📉 Aplicando Logaritmo\n",
    "df[\"price_log\"] = np.log1p(df[\"price\"])\n",
    "\n",
    "# Visualização da distribuição\n",
    "plt.figure(figsize=(10,6))\n",
    "sns.histplot(df['price_log'], bins=50, kde=True, color='darkorange')\n",
    "plt.title(\"Distribuição Logarítmica de Preços\", fontsize=14)\n",
    "plt.xlabel(\"Log(Preço)\", fontsize=12)\n",
    "plt.ylabel(\"Frequência\", fontsize=12)\n",
    "plt.show()\n",
    "\n",
    "print(\"✅ Transformação log aplicada!\")\n"
   ]
  },
  {
   "cell_type": "markdown",
   "id": "c596501a",
   "metadata": {},
   "source": [
    "## ⚖️ Normalização das Variáveis Numéricas  \n",
    "\n",
    "        Utilizamos **StandardScaler** para padronizar as features numéricas (exceto `price_log`).\n",
    "        "
   ]
  },
  {
   "cell_type": "code",
   "execution_count": 11,
   "id": "d8fadac9",
   "metadata": {},
   "outputs": [
    {
     "name": "stdout",
     "output_type": "stream",
     "text": [
      "✅ Normalização aplicada!\n"
     ]
    }
   ],
   "source": [
    "# 📏 Normalizando Variáveis Numéricas\n",
    "scaler = StandardScaler()\n",
    "\n",
    "colunas_numericas = df.select_dtypes(include=[\"int64\", \"float64\"]).columns.tolist()\n",
    "colunas_numericas.remove(\"price_log\")  # Excluímos price_log da normalização\n",
    "\n",
    "df[colunas_numericas] = scaler.fit_transform(df[colunas_numericas])\n",
    "\n",
    "print(\"✅ Normalização aplicada!\")\n"
   ]
  },
  {
   "cell_type": "markdown",
   "id": "4d98acad",
   "metadata": {},
   "source": [
    "## ✅ Conclusões e Insights\n",
    "\n",
    "        📌 **Principais melhorias:**  \n",
    "        - **Valores ausentes tratados** para evitar perdas de dados.  \n",
    "        - **Outliers removidos** para reduzir impacto de valores extremos.  \n",
    "        - **Novas features criadas**, melhorando a capacidade preditiva.  \n",
    "        - **Transformação log aplicada** na variável alvo para melhor distribuição.  \n",
    "        - **Normalização das variáveis**, garantindo escalas homogêneas.  \n",
    "---  \n",
    "        "
   ]
  }
 ],
 "metadata": {
  "kernelspec": {
   "display_name": "venv",
   "language": "python",
   "name": "python3"
  },
  "language_info": {
   "codemirror_mode": {
    "name": "ipython",
    "version": 3
   },
   "file_extension": ".py",
   "mimetype": "text/x-python",
   "name": "python",
   "nbconvert_exporter": "python",
   "pygments_lexer": "ipython3",
   "version": "3.12.7"
  }
 },
 "nbformat": 4,
 "nbformat_minor": 5
}
