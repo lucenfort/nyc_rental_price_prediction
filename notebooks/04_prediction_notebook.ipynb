{
 "cells": [
  {
   "cell_type": "markdown",
   "id": "3deff104",
   "metadata": {},
   "source": [
    "# 🏡 Previsão de Preço do Aluguel - Precificação de Aluguéis em Nova York  \n",
    "        \n",
    "        **Autor:** Luciano Arruda  \n",
    "        **Data:** `2025-02-07`  \n",
    "        **Objetivo:** Este notebook aplica um **modelo treinado de Machine Learning** para prever o preço do aluguel de um imóvel em Nova York.  \n",
    "\n",
    "        ## 📌 Etapas do Processo  \n",
    "        1. **Carregamento do modelo e do scaler** 🛠️  \n",
    "        2. **Preparação dos dados de entrada** 🔄  \n",
    "        3. **Aplicação do modelo para previsão do preço** 📉  \n",
    "        4. **Conversão para BRL e EUR** 💰  \n",
    "        5. **Conclusões e próximos passos** ✅  \n",
    "        "
   ]
  },
  {
   "cell_type": "code",
   "execution_count": 3,
   "id": "87b15a61",
   "metadata": {},
   "outputs": [],
   "source": [
    "# 📥 Importação das Bibliotecas\n",
    "import os\n",
    "import joblib\n",
    "import numpy as np\n",
    "import pandas as pd\n",
    "import requests\n",
    "import logging\n",
    "\n",
    "# Configuração do logger\n",
    "logging.basicConfig(level=logging.INFO, format='%(asctime)s - %(levelname)s - %(message)s')\n",
    "logger = logging.getLogger(__name__)\n",
    "\n",
    "# Caminhos para o modelo e scaler treinados\n",
    "model_path = \"../models/random_forest.pkl\"\n",
    "scaler_path = \"../models/scaler.pkl\"\n",
    "features_path = \"../data/final/nyc_rental_data_features.csv\"\n"
   ]
  },
  {
   "cell_type": "markdown",
   "id": "d2da933c",
   "metadata": {},
   "source": [
    "## 🛠️ Carregamento do Modelo e do Scaler  \n",
    "\n",
    "        O modelo foi previamente treinado utilizando **Random Forest Regressor** e os dados foram normalizados usando um **StandardScaler**.\n",
    "        "
   ]
  },
  {
   "cell_type": "code",
   "execution_count": 4,
   "id": "4f5da27d",
   "metadata": {},
   "outputs": [
    {
     "name": "stdout",
     "output_type": "stream",
     "text": [
      "✅ Modelo e Scaler carregados com sucesso!\n"
     ]
    }
   ],
   "source": [
    "# 📂 Carregando o Modelo e o Scaler\n",
    "def carregar_modelo(caminho):\n",
    "    \"\"\"Carrega o modelo treinado a partir do arquivo especificado.\"\"\"\n",
    "    return joblib.load(caminho)\n",
    "\n",
    "def carregar_scaler(caminho):\n",
    "    \"\"\"Carrega o scaler salvo a partir do arquivo especificado.\"\"\"\n",
    "    return joblib.load(caminho)\n",
    "\n",
    "# Carregar modelo e scaler\n",
    "modelo = carregar_modelo(model_path)\n",
    "scaler = carregar_scaler(scaler_path)\n",
    "print(\"✅ Modelo e Scaler carregados com sucesso!\")\n"
   ]
  },
  {
   "cell_type": "markdown",
   "id": "9a201cdd",
   "metadata": {},
   "source": [
    "## 🔄 Preparação dos Dados de Entrada  \n",
    "\n",
    "        Aplicamos a mesma **engenharia de atributos** utilizada no treinamento para preparar os dados antes da previsão.\n",
    "        "
   ]
  },
  {
   "cell_type": "code",
   "execution_count": 5,
   "id": "5dc40156",
   "metadata": {},
   "outputs": [
    {
     "name": "stdout",
     "output_type": "stream",
     "text": [
      "✅ Dados de entrada preparados com sucesso!\n"
     ]
    },
    {
     "name": "stderr",
     "output_type": "stream",
     "text": [
      "/tmp/ipykernel_336893/577779868.py:32: FutureWarning: Setting an item of incompatible dtype is deprecated and will raise in a future error of pandas. Value '[-0.29903607]' has dtype incompatible with int64, please explicitly cast to a compatible dtype first.\n",
      "  df_input.loc[:, scaler.feature_names_in_] = scaler.transform(df_input[scaler.feature_names_in_])\n",
      "/tmp/ipykernel_336893/577779868.py:32: FutureWarning: Setting an item of incompatible dtype is deprecated and will raise in a future error of pandas. Value '[0.46467909]' has dtype incompatible with int64, please explicitly cast to a compatible dtype first.\n",
      "  df_input.loc[:, scaler.feature_names_in_] = scaler.transform(df_input[scaler.feature_names_in_])\n",
      "/tmp/ipykernel_336893/577779868.py:32: FutureWarning: Setting an item of incompatible dtype is deprecated and will raise in a future error of pandas. Value '[-0.1496289]' has dtype incompatible with int64, please explicitly cast to a compatible dtype first.\n",
      "  df_input.loc[:, scaler.feature_names_in_] = scaler.transform(df_input[scaler.feature_names_in_])\n",
      "/tmp/ipykernel_336893/577779868.py:32: FutureWarning: Setting an item of incompatible dtype is deprecated and will raise in a future error of pandas. Value '[1.88546445]' has dtype incompatible with int64, please explicitly cast to a compatible dtype first.\n",
      "  df_input.loc[:, scaler.feature_names_in_] = scaler.transform(df_input[scaler.feature_names_in_])\n",
      "/tmp/ipykernel_336893/577779868.py:32: FutureWarning: Setting an item of incompatible dtype is deprecated and will raise in a future error of pandas. Value '[-1.17534779]' has dtype incompatible with int64, please explicitly cast to a compatible dtype first.\n",
      "  df_input.loc[:, scaler.feature_names_in_] = scaler.transform(df_input[scaler.feature_names_in_])\n"
     ]
    }
   ],
   "source": [
    "# 🏡 Definição dos Dados do Apartamento para Previsão\n",
    "apartamento = {\n",
    "    'bairro_group': 'Manhattan',\n",
    "    'latitude': 40.75362,\n",
    "    'longitude': -73.98377,\n",
    "    'room_type': 'Entire home/apt',\n",
    "    'minimo_noites': 1,\n",
    "    'numero_de_reviews': 45,\n",
    "    'reviews_por_mes': 0.38,\n",
    "    'calculado_host_listings_count': 2,\n",
    "    'disponibilidade_365': 355\n",
    "}\n",
    "\n",
    "# Carregar colunas esperadas do conjunto de treinamento (exceto 'price_log')\n",
    "df_features = pd.read_csv(features_path)\n",
    "expected_columns = list(df_features.drop(columns=[\"price_log\"]).columns)\n",
    "\n",
    "# Criando DataFrame com os dados do apartamento\n",
    "df_input = pd.DataFrame([apartamento])\n",
    "\n",
    "# Criar novas features\n",
    "df_input['densidade_imoveis'] = 1  # Valor padrão\n",
    "df_input['proximidade_centro'] = np.sqrt((df_input[\"latitude\"] - 40.7128) ** 2 + (df_input[\"longitude\"] + 74.0060) ** 2)\n",
    "\n",
    "# Codificação One-Hot\n",
    "df_input = pd.get_dummies(df_input, columns=['bairro_group', 'room_type'], drop_first=True)\n",
    "\n",
    "# Reindexar para garantir as mesmas colunas do conjunto de treino\n",
    "df_input = df_input.reindex(columns=expected_columns, fill_value=0)\n",
    "\n",
    "# Aplicação do scaler\n",
    "df_input.loc[:, scaler.feature_names_in_] = scaler.transform(df_input[scaler.feature_names_in_])\n",
    "\n",
    "print(\"✅ Dados de entrada preparados com sucesso!\")\n"
   ]
  },
  {
   "cell_type": "markdown",
   "id": "ca53bd7b",
   "metadata": {},
   "source": [
    "## 📉 Previsão do Preço do Aluguel  \n",
    "\n",
    "        O modelo retorna o **log(price)**, então aplicamos a **exponencial inversa (`expm1`)** para obter o preço real.\n",
    "        "
   ]
  },
  {
   "cell_type": "code",
   "execution_count": 6,
   "id": "c4fa6932",
   "metadata": {},
   "outputs": [
    {
     "name": "stdout",
     "output_type": "stream",
     "text": [
      "🏡 Preço sugerido para o imóvel: **$207.08**\n"
     ]
    }
   ],
   "source": [
    "# 🔍 Previsão do Preço\n",
    "preco_log = modelo.predict(df_input)[0]\n",
    "preco_sugerido = np.expm1(preco_log)\n",
    "\n",
    "print(f\"🏡 Preço sugerido para o imóvel: **${preco_sugerido:.2f}**\")\n"
   ]
  },
  {
   "cell_type": "markdown",
   "id": "aeadc788",
   "metadata": {},
   "source": [
    "## 💰 Conversão para BRL e EUR  \n",
    "\n",
    "        Utilizamos a API **AwesomeAPI** para converter o preço de USD para **Reais (BRL)** e **Euros (EUR)**.\n",
    "        "
   ]
  },
  {
   "cell_type": "code",
   "execution_count": 7,
   "id": "f055df5c",
   "metadata": {},
   "outputs": [
    {
     "name": "stdout",
     "output_type": "stream",
     "text": [
      "🔹 == Conversão de Moedas == 🔹\n",
      "💵 Valor em USD:\t207.08 $\n",
      "🇧🇷💰 Valor em BRL:\t1196.94 R$\n",
      "💶 Valor em EUR:\t200.58 €\n"
     ]
    }
   ],
   "source": [
    "# 💱 Função para Conversão de Moeda\n",
    "def converter_moedas(valor_usd):\n",
    "    \"\"\"Converte o valor de USD para BRL e EUR usando a API AwesomeAPI.\"\"\"\n",
    "    url = \"https://economia.awesomeapi.com.br/json/last/USD-BRL,USD-EUR\"\n",
    "    response = requests.get(url)\n",
    "    data = response.json()\n",
    "\n",
    "    usd_brl = float(data['USDBRL']['bid'])\n",
    "    usd_eur = float(data['USDEUR']['bid'])\n",
    "\n",
    "    valor_brl = valor_usd * usd_brl\n",
    "    valor_eur = valor_usd * usd_eur\n",
    "\n",
    "    print(f\"🔹 == Conversão de Moedas == 🔹\")\n",
    "    print(f\"💵 Valor em USD:\t{valor_usd:.2f} $\")\n",
    "    print(f\"🇧🇷💰 Valor em BRL:\t{valor_brl:.2f} R$\")\n",
    "    print(f\"💶 Valor em EUR:\t{valor_eur:.2f} €\")\n",
    "\n",
    "# Aplicando a conversão\n",
    "converter_moedas(preco_sugerido)\n"
   ]
  },
  {
   "cell_type": "markdown",
   "id": "24b385a4",
   "metadata": {},
   "source": [
    "## ✅ Conclusões e Insights\n",
    "\n",
    "        📌 **Resumo:**  \n",
    "        - O modelo previu um preço de aluguel baseado em atributos do imóvel.  \n",
    "        "
   ]
  }
 ],
 "metadata": {
  "kernelspec": {
   "display_name": "venv",
   "language": "python",
   "name": "python3"
  },
  "language_info": {
   "codemirror_mode": {
    "name": "ipython",
    "version": 3
   },
   "file_extension": ".py",
   "mimetype": "text/x-python",
   "name": "python",
   "nbconvert_exporter": "python",
   "pygments_lexer": "ipython3",
   "version": "3.12.7"
  }
 },
 "nbformat": 4,
 "nbformat_minor": 5
}
